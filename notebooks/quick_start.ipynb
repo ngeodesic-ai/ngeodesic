{
 "cells": [
  {
   "cell_type": "code",
   "execution_count": 4,
   "id": "69226d79-e89f-4ce4-9338-c8c9ea0abb35",
   "metadata": {},
   "outputs": [
    {
     "name": "stdout",
     "output_type": "stream",
     "text": [
      "Detected: ['0'] Order: ['0']\n",
      "Smoothed: [0.4        0.4        0.47774538 0.54749147 0.56164993]\n"
     ]
    }
   ],
   "source": [
    "import numpy as np\n",
    "from ngeodesic.core.denoise import TemporalDenoiser\n",
    "from ngeodesic.core.parser import geodesic_parse_report\n",
    "from ngeodesic.core.matched_filter import half_sine_proto\n",
    "\n",
    "rng = np.random.default_rng(42)\n",
    "n, T = 3, 160\n",
    "traces = [np.clip(rng.normal(0, 0.3, T) + (i==1)*np.sin(np.linspace(0, np.pi, T)), -2, 2)\n",
    "          for i in range(n)]\n",
    "\n",
    "keep_mask, order = geodesic_parse_report(traces, sigma=9, proto_width=64)\n",
    "\n",
    "# ema_decay=0.85  -> ema_alpha = 1 - 0.85 = 0.15\n",
    "den = TemporalDenoiser(method=\"hybrid\", ema_alpha=0.15, hybrid_k=3)\n",
    "smoothed = den.smooth(np.array([0.1, 0.4, 0.8, 0.6, 0.7], dtype=float))\n",
    "\n",
    "print(\"Detected:\", keep_mask, \"Order:\", order)\n",
    "print(\"Smoothed:\", smoothed)"
   ]
  }
 ],
 "metadata": {
  "kernelspec": {
   "display_name": "Python 3 (ipykernel)",
   "language": "python",
   "name": "python3"
  },
  "language_info": {
   "codemirror_mode": {
    "name": "ipython",
    "version": 3
   },
   "file_extension": ".py",
   "mimetype": "text/x-python",
   "name": "python",
   "nbconvert_exporter": "python",
   "pygments_lexer": "ipython3",
   "version": "3.10.0rc2"
  }
 },
 "nbformat": 4,
 "nbformat_minor": 5
}
