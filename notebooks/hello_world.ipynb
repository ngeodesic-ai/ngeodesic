{
 "cells": [
  {
   "cell_type": "code",
   "execution_count": 1,
   "id": "2980eb82-a214-449d-9711-93121ed29c37",
   "metadata": {},
   "outputs": [
    {
     "ename": "ImportError",
     "evalue": "cannot import name 'stock_parse' from 'ngeodesic.core.parser' (/Users/ian_moore/repos/ngeodesic/python/ngeodesic/core/parser.py)",
     "output_type": "error",
     "traceback": [
      "\u001b[0;31m---------------------------------------------------------------------------\u001b[0m",
      "\u001b[0;31mImportError\u001b[0m                               Traceback (most recent call last)",
      "Cell \u001b[0;32mIn[1], line 1\u001b[0m\n\u001b[0;32m----> 1\u001b[0m \u001b[38;5;28;01mimport\u001b[39;00m \u001b[38;5;21;01mngeodesic\u001b[39;00m\n",
      "File \u001b[0;32m~/repos/ngeodesic/python/ngeodesic/__init__.py:3\u001b[0m\n\u001b[1;32m      1\u001b[0m \u001b[38;5;66;03m# ngeodesic/__init__.py\u001b[39;00m\n\u001b[1;32m      2\u001b[0m \u001b[38;5;28;01mfrom\u001b[39;00m \u001b[38;5;21;01m.\u001b[39;00m\u001b[38;5;21;01mcompat\u001b[39;00m\u001b[38;5;21;01m.\u001b[39;00m\u001b[38;5;21;01mtypes\u001b[39;00m \u001b[38;5;28;01mimport\u001b[39;00m WellParams\n\u001b[0;32m----> 3\u001b[0m \u001b[38;5;28;01mfrom\u001b[39;00m \u001b[38;5;21;01m.\u001b[39;00m\u001b[38;5;21;01mcore\u001b[39;00m\u001b[38;5;21;01m.\u001b[39;00m\u001b[38;5;21;01mparser\u001b[39;00m \u001b[38;5;28;01mimport\u001b[39;00m stock_parse, geodesic_parse_report, geodesic_parse_with_prior\n\u001b[1;32m      4\u001b[0m \u001b[38;5;28;01mfrom\u001b[39;00m \u001b[38;5;21;01m.\u001b[39;00m\u001b[38;5;21;01mcore\u001b[39;00m\u001b[38;5;21;01m.\u001b[39;00m\u001b[38;5;21;01mfunnel_profile\u001b[39;00m \u001b[38;5;28;01mimport\u001b[39;00m priors_from_profile, fit_radial_profile, analytic_core_template\n\u001b[1;32m      5\u001b[0m \u001b[38;5;28;01mfrom\u001b[39;00m \u001b[38;5;21;01m.\u001b[39;00m\u001b[38;5;21;01mcore\u001b[39;00m\u001b[38;5;21;01m.\u001b[39;00m\u001b[38;5;21;01mpca_warp\u001b[39;00m \u001b[38;5;28;01mimport\u001b[39;00m pca3_and_warp\n",
      "\u001b[0;31mImportError\u001b[0m: cannot import name 'stock_parse' from 'ngeodesic.core.parser' (/Users/ian_moore/repos/ngeodesic/python/ngeodesic/core/parser.py)"
     ]
    }
   ],
   "source": [
    "import ngeodesic"
   ]
  },
  {
   "cell_type": "code",
   "execution_count": null,
   "id": "69226d79-e89f-4ce4-9338-c8c9ea0abb35",
   "metadata": {},
   "outputs": [],
   "source": [
    "import numpy as np\n",
    "from ngeodesic.core.denoise import TemporalDenoiser\n",
    "from ngeodesic.core.parser import geodesic_parse_report  # Stage-10/11 parser\n",
    "from ngeodesic.core.matched_filter import half_sine_proto"
   ]
  },
  {
   "cell_type": "code",
   "execution_count": null,
   "id": "989be6fd-e96e-410d-adaa-6f8be68f22e9",
   "metadata": {},
   "outputs": [],
   "source": [
    "def geodesic_parse_report(traces: Dict[str, np.ndarray], *, sigma=9, proto_width=160):\n",
    "    keys = list(traces.keys())\n",
    "    T = len(next(iter(traces.values())))\n",
    "    Eres = perpendicular_energy(traces)\n",
    "    Sres = {p: moving_average(Eres[p], k=sigma) for p in keys}\n",
    "    Sraw = {p: moving_average(traces[p], k=sigma) for p in keys}\n",
    "    Scm  = moving_average(common_mode(traces), k=sigma)\n",
    "    proto = half_sine_proto(proto_width)\n",
    "\n",
    "    peak_idx = {p: int(np.argmax(np.correlate(Sres[p], proto, mode=\"same\"))) for p in keys}\n",
    "\n",
    "    def circ_shift(x, k):\n",
    "        k = int(k) % len(x)\n",
    "        if k == 0: return x\n",
    "        return np.concatenate([x[-k:], x[:-k]])\n",
    "\n",
    "    def perm_null_z(sig, idx, n=120):\n",
    "        T = len(sig); obs = _corr_at(sig, proto, idx, proto_width, T)\n",
    "        null = np.empty(n, float); rng_local = np.random.default_rng(0)\n",
    "        for i in range(n):\n",
    "            shift = rng_local.integers(1, T-1)\n",
    "            null[i] = _corr_at(circ_shift(sig, shift), proto, idx, proto_width, T)\n",
    "        mu, sd = float(null.mean()), float(null.std() + 1e-8)\n",
    "        return (obs - mu) / sd\n",
    "\n",
    "    z_res = {p: perm_null_z(Sres[p], peak_idx[p]) for p in keys}\n",
    "    z_raw = {p: perm_null_z(Sraw[p], peak_idx[p]) for p in keys}\n",
    "    z_cm  = {p: perm_null_z(Scm,      peak_idx[keys[0]]) for p in keys}\n",
    "    score = {p: 1.0*z_res[p] + 0.4*z_raw[p] - 0.3*max(0.0, z_cm[p]) for p in keys}\n",
    "\n",
    "    smax = max(score.values()) + 1e-12\n",
    "    keep = [p for p in keys if score[p] >= 0.5*smax]\n",
    "    if not keep:\n",
    "        keep = [max(keys, key=lambda p: score[p])]\n",
    "    order = sorted(keep, key=lambda p: peak_idx[p])\n",
    "    return keep, order"
   ]
  }
 ],
 "metadata": {
  "kernelspec": {
   "display_name": "Python 3 (ipykernel)",
   "language": "python",
   "name": "python3"
  },
  "language_info": {
   "codemirror_mode": {
    "name": "ipython",
    "version": 3
   },
   "file_extension": ".py",
   "mimetype": "text/x-python",
   "name": "python",
   "nbconvert_exporter": "python",
   "pygments_lexer": "ipython3",
   "version": "3.10.0rc2"
  }
 },
 "nbformat": 4,
 "nbformat_minor": 5
}
