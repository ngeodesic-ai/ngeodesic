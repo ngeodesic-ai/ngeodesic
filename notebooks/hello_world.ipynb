{
 "cells": [
  {
   "cell_type": "code",
   "execution_count": 1,
   "id": "2980eb82-a214-449d-9711-93121ed29c37",
   "metadata": {},
   "outputs": [
    {
     "ename": "ImportError",
     "evalue": "cannot import name 'stock_parse' from 'ngeodesic.core.parser' (/Users/ian_moore/repos/ngeodesic/python/ngeodesic/core/parser.py)",
     "output_type": "error",
     "traceback": [
      "\u001b[0;31m---------------------------------------------------------------------------\u001b[0m",
      "\u001b[0;31mImportError\u001b[0m                               Traceback (most recent call last)",
      "Cell \u001b[0;32mIn[1], line 1\u001b[0m\n\u001b[0;32m----> 1\u001b[0m \u001b[38;5;28;01mimport\u001b[39;00m \u001b[38;5;21;01mngeodesic\u001b[39;00m\n",
      "File \u001b[0;32m~/repos/ngeodesic/python/ngeodesic/__init__.py:3\u001b[0m\n\u001b[1;32m      1\u001b[0m \u001b[38;5;66;03m# ngeodesic/__init__.py\u001b[39;00m\n\u001b[1;32m      2\u001b[0m \u001b[38;5;28;01mfrom\u001b[39;00m \u001b[38;5;21;01m.\u001b[39;00m\u001b[38;5;21;01mcompat\u001b[39;00m\u001b[38;5;21;01m.\u001b[39;00m\u001b[38;5;21;01mtypes\u001b[39;00m \u001b[38;5;28;01mimport\u001b[39;00m WellParams\n\u001b[0;32m----> 3\u001b[0m \u001b[38;5;28;01mfrom\u001b[39;00m \u001b[38;5;21;01m.\u001b[39;00m\u001b[38;5;21;01mcore\u001b[39;00m\u001b[38;5;21;01m.\u001b[39;00m\u001b[38;5;21;01mparser\u001b[39;00m \u001b[38;5;28;01mimport\u001b[39;00m stock_parse, geodesic_parse_report, geodesic_parse_with_prior\n\u001b[1;32m      4\u001b[0m \u001b[38;5;28;01mfrom\u001b[39;00m \u001b[38;5;21;01m.\u001b[39;00m\u001b[38;5;21;01mcore\u001b[39;00m\u001b[38;5;21;01m.\u001b[39;00m\u001b[38;5;21;01mfunnel_profile\u001b[39;00m \u001b[38;5;28;01mimport\u001b[39;00m priors_from_profile, fit_radial_profile, analytic_core_template\n\u001b[1;32m      5\u001b[0m \u001b[38;5;28;01mfrom\u001b[39;00m \u001b[38;5;21;01m.\u001b[39;00m\u001b[38;5;21;01mcore\u001b[39;00m\u001b[38;5;21;01m.\u001b[39;00m\u001b[38;5;21;01mpca_warp\u001b[39;00m \u001b[38;5;28;01mimport\u001b[39;00m pca3_and_warp\n",
      "\u001b[0;31mImportError\u001b[0m: cannot import name 'stock_parse' from 'ngeodesic.core.parser' (/Users/ian_moore/repos/ngeodesic/python/ngeodesic/core/parser.py)"
     ]
    }
   ],
   "source": [
    "import ngeodesic"
   ]
  },
  {
   "cell_type": "code",
   "execution_count": null,
   "id": "69226d79-e89f-4ce4-9338-c8c9ea0abb35",
   "metadata": {},
   "outputs": [],
   "source": [
    "import numpy as np\n",
    "from ngeodesic.core.denoise import TemporalDenoiser\n",
    "from ngeodesic.core.parser import geodesic_parse_report  # Stage-10/11 parser\n",
    "from ngeodesic.core.matched_filter import half_sine_proto"
   ]
  }
 ],
 "metadata": {
  "kernelspec": {
   "display_name": "Python 3 (ipykernel)",
   "language": "python",
   "name": "python3"
  },
  "language_info": {
   "codemirror_mode": {
    "name": "ipython",
    "version": 3
   },
   "file_extension": ".py",
   "mimetype": "text/x-python",
   "name": "python",
   "nbconvert_exporter": "python",
   "pygments_lexer": "ipython3",
   "version": "3.10.0rc2"
  }
 },
 "nbformat": 4,
 "nbformat_minor": 5
}
